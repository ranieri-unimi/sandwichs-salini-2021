{
 "metadata": {
  "orig_nbformat": 2,
  "kernelspec": {
   "name": "python394jvsc74a57bd081cbbe1e293b45d2ce7982f3859189e633bca826e36cf3cd70b04193a2cc78a0",
   "display_name": "Python 3.9.4 64-bit ('salini': conda)"
  },
  "metadata": {
   "interpreter": {
    "hash": "81cbbe1e293b45d2ce7982f3859189e633bca826e36cf3cd70b04193a2cc78a0"
   }
  }
 },
 "nbformat": 4,
 "nbformat_minor": 2,
 "cells": [
  {
   "source": [
    "import numpy as np\n",
    "import numpy.linalg as la\n",
    "import pandas as pd\n",
    "import sklearn as sk\n",
    "import torch as tf\n",
    "\n",
    "from sklearn import metrics as skmt\n",
    "from torch import nn "
   ],
   "cell_type": "code",
   "metadata": {},
   "execution_count": 4,
   "outputs": []
  },
  {
   "source": [
    "$$\\sum_{i=0}^n i^2 = \\frac{(n^2+n)(2n+1)}{6}$$"
   ],
   "cell_type": "markdown",
   "metadata": {}
  },
  {
   "source": [
    "# every day is leg day"
   ],
   "cell_type": "markdown",
   "metadata": {}
  },
  {
   "cell_type": "code",
   "execution_count": 5,
   "metadata": {},
   "outputs": [
    {
     "output_type": "stream",
     "name": "stdout",
     "text": [
      "['monday', 'tuesday', 'wednesday']\n"
     ]
    }
   ],
   "source": [
    "print(['monday','tuesday','wednesday'])"
   ]
  },
  {
   "source": [
    "### mean square error / MSE\n",
    "- ingredients: real values, predicted values\n",
    "- recipe: not on **train** set (obv) but on **test** set\n",
    "- result: bad/good estimation ~ bad/good model"
   ],
   "cell_type": "markdown",
   "metadata": {}
  },
  {
   "cell_type": "code",
   "execution_count": 91,
   "metadata": {},
   "outputs": [
    {
     "output_type": "stream",
     "name": "stdout",
     "text": [
      "1.0\n"
     ]
    }
   ],
   "source": [
    "real_path = np.array([[0, 0],[1, 2],[2, 4]])\n",
    "guess_line = np.array([[0, 0],[2, 2],[3, 3]])\n",
    "guess_curvy = np.array([[0, 1],[1, 2],[2, 4]])\n",
    "\n",
    "mse = skmt.mean_squared_error(real_path, guess_line)\n",
    "print(mse*np.shape(real_path)[1])"
   ]
  }
 ]
}