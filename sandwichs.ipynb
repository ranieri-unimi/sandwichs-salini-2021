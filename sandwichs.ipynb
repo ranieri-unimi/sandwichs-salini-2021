{
 "metadata": {
  "orig_nbformat": 2,
  "kernelspec": {
   "name": "python394jvsc74a57bd081cbbe1e293b45d2ce7982f3859189e633bca826e36cf3cd70b04193a2cc78a0",
   "display_name": "Python 3.9.4 64-bit ('salini': conda)"
  },
  "metadata": {
   "interpreter": {
    "hash": "81cbbe1e293b45d2ce7982f3859189e633bca826e36cf3cd70b04193a2cc78a0"
   }
  }
 },
 "nbformat": 4,
 "nbformat_minor": 2,
 "cells": [
  {
   "source": [
    "import numpy as np\n",
    "import numpy.linalg as la\n",
    "import pandas as pd\n",
    "import sklearn as sk\n",
    "import torch as tf\n",
    "\n",
    "from sklearn import metrics as skmt\n",
    "from torch import nn "
   ],
   "cell_type": "code",
   "metadata": {},
   "execution_count": null,
   "outputs": []
  },
  {
   "source": [
    "$$\\sum_{i=0}^n i^2 = \\frac{(n^2+n)(2n+1)}{6}$$"
   ],
   "cell_type": "markdown",
   "metadata": {}
  },
  {
   "cell_type": "code",
   "execution_count": null,
   "metadata": {},
   "outputs": [],
   "source": [
    "# todo list\n",
    "# Support-vector machines\n",
    "# Logistic regression"
   ]
  },
  {
   "source": [
    "# every day is leg day"
   ],
   "cell_type": "markdown",
   "metadata": {}
  },
  {
   "cell_type": "code",
   "execution_count": null,
   "metadata": {},
   "outputs": [],
   "source": [
    "print(['monday','tuesday','wednesday'])"
   ]
  },
  {
   "source": [
    "### mean square error / MSE\n",
    "- ingredients: real values, predicted values\n",
    "- recipe: not on **train** set (obv) but on **test** set\n",
    "- result: bad/good estimation ~ bad/good model"
   ],
   "cell_type": "markdown",
   "metadata": {}
  },
  {
   "cell_type": "code",
   "execution_count": null,
   "metadata": {},
   "outputs": [],
   "source": [
    "real_path = np.array([[0, 0],[1, 2],[2, 4]])\n",
    "guess_straight = np.array([[0, 0],[2, 2],[3, 3]])\n",
    "guess_curvy = np.array([[0, 1],[1, 2],[2, 4]])\n",
    "\n",
    "mse = skmt.mean_squared_error(real_path, guess_straight)\n",
    "mse*np.shape(real_path)[1]"
   ]
  },
  {
   "source": [
    "#### MSE ~ ANOVA = var(between) + \\[var(within) aka bias\\] + dust\n",
    "- high var = underfitting\n",
    "- high bias = overfitting\n",
    "- high dust = did you miss something?\n"
   ],
   "cell_type": "markdown",
   "metadata": {}
  },
  {
   "cell_type": "code",
   "execution_count": null,
   "metadata": {},
   "outputs": [],
   "source": [
    "#la.norm(np.mean(real_path, axis=0) - np.mean(guess_curvy, axis=0))\n",
    "bias = np.var([np.mean(real_path, axis=0), np.mean(guess_curvy, axis=0)])\n",
    "var = np.mean([np.var(real_path, axis=0), np.var(guess_curvy, axis=0)])\n",
    "irr_err = mse*np.shape(real_path)[1]-var+bias\n",
    "var, bias, irr_err"
   ]
  },
  {
   "source": [
    "#### miscassification rate / %\n",
    "- ingredients: real label, predicted label\n",
    "- recipe: categorical assesment"
   ],
   "cell_type": "markdown",
   "metadata": {}
  },
  {
   "source": [
    "#### linear regression\n",
    "mean squared error **MSE** is sometimes used to refer to the unbiased estimate of error variance =  the residual sum of squares **RSS** divided by the number of degrees of freedom."
   ],
   "cell_type": "markdown",
   "metadata": {}
  },
  {
   "cell_type": "code",
   "execution_count": null,
   "metadata": {},
   "outputs": [],
   "source": [
    "'''\n",
    "from sklearn import linear_model as linm\n",
    "\n",
    "reg = linm.LinearRegression()\n",
    "reg.fit()\n",
    "\n",
    "reg.score(real_path, guess_straight), reg.coef_, reg.intercept_, reg.predict(np.array([[3, 5]]))\n",
    "#'''"
   ]
  }
 ]
}