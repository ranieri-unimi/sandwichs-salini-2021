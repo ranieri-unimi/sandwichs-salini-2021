{
 "metadata": {
  "orig_nbformat": 2,
  "kernelspec": {
   "name": "python394jvsc74a57bd081cbbe1e293b45d2ce7982f3859189e633bca826e36cf3cd70b04193a2cc78a0",
   "display_name": "Python 3.9.4 64-bit ('salini': conda)"
  },
  "metadata": {
   "interpreter": {
    "hash": "81cbbe1e293b45d2ce7982f3859189e633bca826e36cf3cd70b04193a2cc78a0"
   }
  }
 },
 "nbformat": 4,
 "nbformat_minor": 2,
 "cells": [
  {
   "source": [
    "import numpy"
   ],
   "cell_type": "code",
   "metadata": {},
   "execution_count": 1,
   "outputs": []
  },
  {
   "source": [
    "# every day is leg day"
   ],
   "cell_type": "markdown",
   "metadata": {}
  },
  {
   "cell_type": "code",
   "execution_count": 2,
   "metadata": {},
   "outputs": [
    {
     "output_type": "stream",
     "name": "stdout",
     "text": [
      "['monday', 'tuesday', 'wednesday']\n"
     ]
    }
   ],
   "source": [
    "print(['monday','tuesday','wednesday'])"
   ]
  }
 ]
}